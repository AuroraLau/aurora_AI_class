{
 "cells": [
  {
   "cell_type": "markdown",
   "metadata": {},
   "source": [
    "# Introduction to Artificial Intelligence for Non Computing"
   ]
  },
  {
   "cell_type": "markdown",
   "metadata": {},
   "source": [
    "## Practical 2 (weeks 3 - 4)"
   ]
  },
  {
   "cell_type": "markdown",
   "metadata": {},
   "source": [
    "## Search Techniques"
   ]
  },
  {
   "cell_type": "markdown",
   "metadata": {},
   "source": [
    "The following links provide additional information about depth first search and breath first search"
   ]
  },
  {
   "cell_type": "markdown",
   "metadata": {},
   "source": [
    "- Depth first search:   link：https://pan.baidu.com/s/1bkLHKKbSBNpfFuKwDyURqw  password：oy76\n",
    "- Breath first search:  link：https://pan.baidu.com/s/176g5q0W3rGbSAM5tZMraeg   password：7mdh"
   ]
  },
  {
   "cell_type": "markdown",
   "metadata": {},
   "source": [
    "#### Theory Questions "
   ]
  },
  {
   "cell_type": "markdown",
   "metadata": {},
   "source": [
    "1\\. What is an algorithm? A sequence of steps such as a recipe or a movie script.\n",
    "\n",
    "As a movie viewer, please write an algorithm for a process to \"see a movie\". Include details of the following for example (add additional information yourself):\n",
    "\t- The start conditions \n",
    "\t-- I want to watch a movie\n",
    "\t- Roles (people/actors involved) \n",
    "    --watcher, ticket seller etc \n",
    "    -Equipment required (\"props\")\n",
    "    --seats, ticket etc\n",
    "    - The scenes \n",
    "    -- scene 1 - buy ticket \n",
    "    -- ??? what happens next\n",
    "    -- scene 3, scene 3 ...\n",
    "    - Results/outcomes\n",
    "    -- ?\n"
   ]
  },
  {
   "cell_type": "markdown",
   "metadata": {},
   "source": [
    "_your answer here..._ \n",
    "\n",
    "if (I want to watch a movie):\n",
    "\n",
    "    find the information of latest movies;\n",
    "\n",
    "    if (I'm interesterd in the roles or stories):\n",
    "    \n",
    "        decide the cinema\n",
    "        \n",
    "        decide the time\n",
    "        \n",
    "        decide whom to go with\n",
    "        \n",
    "        if (there are still some tickets):\n",
    "        \n",
    "            decide the seats\n",
    "            \n",
    "            buy tickets\n",
    "            \n",
    "if (I got the ticket):\n",
    "\n",
    "    buy some drinks\n",
    "    \n",
    "    if (the movie is 3D):\n",
    "    \n",
    "        buy 3D glasses\n",
    "        \n",
    "    enter the cinema\n",
    "    \n",
    "    find the corresponding seat\n",
    "    \n",
    "    Enjoy the movie.\n",
    "    \n",
    "    #After movie\n",
    "    \n",
    "    go back home\n",
    "    \n",
    "    return feedback\n",
    "\n",
    "***"
   ]
  },
  {
   "cell_type": "markdown",
   "metadata": {},
   "source": [
    "2\\. A farmer with his wolf, duck and bag of corn come to the east side of a river they wish to cross. There is a boat at the rivers edge, but of course only the farmer can row. The boat can only hold two things (including the rower) at any one time. If the wolf is ever left alone with the duck, the wolf will eat it. Similarly if the duck is ever left alone with the corn, the duck will eat it. How can the farmer get across the river so that all four arrive safely on the other side? "
   ]
  },
  {
   "cell_type": "markdown",
   "metadata": {},
   "source": [
    "_your answer here..._ \n",
    "\n",
    "The farmer rows the boat with corn and rower,\n",
    "then he rows the boat back with rower.\n",
    "\n",
    "The farmer rows the boat with wolf and rower,\n",
    "then he rows the boat back with rower.\n",
    "\n",
    "The farmer rows the boat with duck and rower.\n",
    "\n",
    "***"
   ]
  },
  {
   "cell_type": "markdown",
   "metadata": {},
   "source": [
    " "
   ]
  },
  {
   "cell_type": "markdown",
   "metadata": {},
   "source": [
    "3\\.Explain why we determine our problem goals before we write the problem formulation (including the model and deciding what algorithm or techniques to use - for example search, or other method).\n",
    "\n",
    "See Chapter3.1 (Russel & Norvig)"
   ]
  },
  {
   "cell_type": "markdown",
   "metadata": {},
   "source": [
    "_your answer here..._ \n",
    "\n",
    "Because goals help organize behavior by limiting the objectives that the agent is trying to achieve and hence the actions it needs to consider. The goal can help the algorithm to set the suitable problem formulations so that to perform the maximum performance.\n",
    "\n",
    "\n",
    "****"
   ]
  },
  {
   "cell_type": "markdown",
   "metadata": {},
   "source": [
    "4\\. This question requires you to perform BFS and DFS on paper.\n",
    "\n",
    "<img src=\"img/p1.png\" width=\"180\" height=\"180\" >\n",
    "\n",
    "1. Simulate (on pencil-and-paper) breadth-first search starting from node A when the goal node is K.\n",
    "2. Simulate (on pencil-and-paper) depth first search starting from node A when the goal node is I.\n"
   ]
  },
  {
   "cell_type": "markdown",
   "metadata": {},
   "source": [
    "1. _your answer here..._ \n",
    "\n",
    "            with Breadth-First Search:\n",
    "\n",
    "            A-B-C-D-E-F-H-G-I-K\n",
    "<img src=\"img/a.png\" width=\"580\" height=\"400\" >\n",
    "\n",
    "2. _your answer here..._ \n",
    "\n",
    "            with Depth-First Search:\n",
    "\n",
    "            A-B-C-E-F-D-H-I\n",
    "<img src=\"img/b.png\" width=\"580\" height=\"400\" >\n",
    "\n",
    "\n",
    "***"
   ]
  },
  {
   "cell_type": "markdown",
   "metadata": {},
   "source": [
    "5\\.Consider a state space where the start state is number 1 and each state  k has two successors: numbers 2k and 2k + 1.\n",
    "- a. Draw the portion of the state space for states 1 to 15.\n",
    "- b. Suppose the goal state is 11. List the order in which nodes will be visited for breadthfirst\n",
    "search, depth-limited search with limit 3, and iterative deepening search.\n",
    "- c. How well would bidirectional search work on this problem? What is the branching\n",
    "factor in each direction of the bidirectional search?\n",
    "- d. Does the answer to (c) suggest a reformulation of the problem that would allow you to\n",
    "solve the problem of getting from state 1 to a given goal state with almost no search?\n",
    "- e. Call the action going from k to 2k Left, and the action going to 2k + 1 Right. Can you\n",
    "find an algorithm that outputs the solution to this problem without any search at all?\n",
    "\n",
    "See textbook Chapter3.15"
   ]
  },
  {
   "cell_type": "markdown",
   "metadata": {},
   "source": [
    "_your answer here..._ \n",
    "\n",
    "a.\n",
    "\n",
    "<img src=\"img/c.png\" width=\"280\" height=\"180\" >\n",
    "\n",
    "b. 1) breadth-first search:\n",
    "\n",
    "   1-2-3-4-5-6-7-8-9-10-11;\n",
    "    \n",
    "   2）depth-limited search with limit 3:\n",
    "   \n",
    "   1-2-4-8-9-5-10-11;\n",
    "   \n",
    "   3) iterative deepening search: \n",
    "  \n",
    "   1st: 1; \n",
    "   \n",
    "   2nd: 1-2-3; \n",
    "   \n",
    "   3rd: 1-2-4-5-3-6-7; \n",
    "   \n",
    "   4th: 1-2-4-8-9-5-10-11;\n",
    "   \n",
    "c. The bidirectional search can reduce the time complexity and space complexity.\n",
    "\n",
    "   2 in forward direction, 1 in reverse direction\n",
    "   \n",
    "d. Yes. Apply the reverse direction search in bidirectional search from the goal 11, until reach 1.\n",
    "\n",
    "e. Yes. Transfer the goal into binary number, Then start from the second digit, if it's '0', go left; if it's '1', go right.\n",
    "\n"
   ]
  },
  {
   "cell_type": "markdown",
   "metadata": {},
   "source": [
    "### Programming Excercises"
   ]
  },
  {
   "cell_type": "markdown",
   "metadata": {},
   "source": [
    "1\\.Write a program to solve a classic ancient Chinese puzzle:  \n",
    " We count 35 heads and 94 legs among the chickens and rabbits in a farm. How many rabbits and how many chickens do we have? "
   ]
  },
  {
   "cell_type": "code",
   "execution_count": 1,
   "metadata": {},
   "outputs": [
    {
     "name": "stdout",
     "output_type": "stream",
     "text": [
      "There are 23 chickens and 12 rabbits.\n"
     ]
    }
   ],
   "source": [
    "##Hint:Use for loop to iterate all possible\n",
    "## write your answer here!\n",
    "def solution(heads,legs):\n",
    "    for i in range(heads+1): #assume there are i chickens\n",
    "        if 2*i+4*(heads-i)==legs:\n",
    "            print(\"There are %s chickens and %s rabbits.\"%(i,heads-i))\n",
    "\n",
    "solution(35,94)"
   ]
  },
  {
   "cell_type": "markdown",
   "metadata": {},
   "source": [
    "2\\. _Social networking_ Please look at the graph below of social relationships. You have a mango farm, you need to find a mango buyer and sell him your mango that you have grown (just a small farm). To this end, our principle is to use our social network of friends separated by one degree, and then second degree friends (friends of friends), third degree friends (friends of friends of friends).\n",
    "\n",
    "Use the depth first algorithm to search your network until you find a mango seller. \n",
    "\n",
    "We make an assumption that if the person's name ends with m, then it means the person must be the mango seller!\n",
    "\n",
    "\n",
    "<img src=\"img/p3.png\" width=\"500\" height=\"400\" >"
   ]
  },
  {
   "cell_type": "code",
   "execution_count": 2,
   "metadata": {},
   "outputs": [
    {
     "name": "stdout",
     "output_type": "stream",
     "text": [
      "thom\n"
     ]
    }
   ],
   "source": [
    "## write your answer here!\n",
    "problem={\n",
    "    \"you\":[\"bob\",\"alice\",\"claire\"],\n",
    "    \"bob\":[\"anuj\",\"peggy\"],\n",
    "    \"alice\":[\"peggy\"],\n",
    "    \"claire\":[\"thom\",\"jonny\"]\n",
    "}\n",
    "\n",
    "def depth_first_algorithm(problem,initiator):\n",
    "    queue=[initiator]\n",
    "    path=[]\n",
    "    while len(queue)>0:\n",
    "        node = queue.pop()\n",
    "        if node not in path:\n",
    "            path.append(node)\n",
    "            if node[-1]=='m':\n",
    "                print(node)\n",
    "            if node in problem.keys():\n",
    "                for friend in problem[node]:\n",
    "                    if friend not in path:\n",
    "                        queue.append(friend)\n",
    "    #print(path)\n",
    "    \n",
    "depth_first_algorithm(problem,\"you\")\n"
   ]
  },
  {
   "cell_type": "markdown",
   "metadata": {},
   "source": [
    "3\\. Depth First traverse：Use depth first traversal to traverse all the DLL files on the C disk and output the file names.\n",
    "\n",
    "Update your code to search for a particular filename.\n",
    "\n",
    "What protocol did you use to select the next node to expand on the fringe?"
   ]
  },
  {
   "cell_type": "code",
   "execution_count": 3,
   "metadata": {},
   "outputs": [
    {
     "name": "stdout",
     "output_type": "stream",
     "text": [
      "./Tracing_Disk/a/a001.dll\n",
      "./Tracing_Disk/a/a002.dll\n",
      "./Tracing_Disk/a/a003.dll\n",
      "./Tracing_Disk/b/b001.dll\n",
      "./Tracing_Disk/b/b002.dll\n",
      "./Tracing_Disk/b/b003.dll\n",
      "./Tracing_Disk/c/c001.dll\n",
      "./Tracing_Disk/c/c002.dll\n",
      "./Tracing_Disk/c/c003.dll\n",
      "./Tracing_Disk/d.dll\n"
     ]
    }
   ],
   "source": [
    "## write your answer here!\n",
    "import os\n",
    "\n",
    "def DFS(path):\n",
    "    for root, dirs, files in os.walk(path,topdown=False):\n",
    "        #print(root)\n",
    "        #print(dirs)\n",
    "        #print(files)\n",
    "        for file in files:\n",
    "            if os.path.splitext(file)[1]==\".dll\":\n",
    "                x=os.path.join(root,file)\n",
    "                print(x)\n",
    "    \n",
    "DFS(\"./Tracing_Disk/\")"
   ]
  },
  {
   "cell_type": "markdown",
   "metadata": {},
   "source": [
    "4\\.\n",
    "Breadth First traverse：Use breadth traversal to traverse all the DLL files on the C disk and output the filename.\n",
    "\n",
    "Update your code to search for a particular filename."
   ]
  },
  {
   "cell_type": "code",
   "execution_count": 4,
   "metadata": {},
   "outputs": [
    {
     "name": "stdout",
     "output_type": "stream",
     "text": [
      "./Tracing_Disk/d.dll\n",
      "./Tracing_Disk/a/a001.dll\n",
      "./Tracing_Disk/a/a002.dll\n",
      "./Tracing_Disk/a/a003.dll\n",
      "./Tracing_Disk/b/b001.dll\n",
      "./Tracing_Disk/b/b002.dll\n",
      "./Tracing_Disk/b/b003.dll\n",
      "./Tracing_Disk/c/c001.dll\n",
      "./Tracing_Disk/c/c002.dll\n",
      "./Tracing_Disk/c/c003.dll\n"
     ]
    }
   ],
   "source": [
    "## write your answer here!\n",
    "\n",
    "import os\n",
    "\n",
    "def BFS(path):\n",
    "    for root, dirs, files in os.walk(path,topdown=True):\n",
    "        #print(root)\n",
    "        #print(dirs)\n",
    "        #print(files)\n",
    "        for file in files:\n",
    "            if os.path.splitext(file)[1]==\".dll\":\n",
    "                x=os.path.join(root,file)\n",
    "                print(x)\n",
    "    \n",
    "BFS(\"./Tracing_Disk/\")"
   ]
  },
  {
   "cell_type": "markdown",
   "metadata": {},
   "source": [
    "5\\. Uniform cost search"
   ]
  },
  {
   "cell_type": "markdown",
   "metadata": {},
   "source": [
    "Consider a state space where the start state is 2 and each state k has three successors: numbers 2k, 2k+1, 2k+2. The cost from state k to each respective child is k, ground(k/2), k+2.\n",
    "\n",
    "can you implement a uniform-cost-search algorithm with python. The goal state is number 85."
   ]
  },
  {
   "cell_type": "code",
   "execution_count": 5,
   "metadata": {},
   "outputs": [
    {
     "name": "stdout",
     "output_type": "stream",
     "text": [
      "53\n"
     ]
    }
   ],
   "source": [
    "import math\n",
    "\n",
    "def UCF(start, goal):\n",
    "    lis=[-1]*(goal+1)\n",
    "    lis[start]=0\n",
    "    for k in range(start, math.floor(goal/2)+1): \n",
    "        for successor, cost in [(2 * k, k), (2 *k + 1, math.floor(k/2)), (2 * k + 2, k + 2)]:\n",
    "            if successor > goal:\n",
    "                break\n",
    "            if lis[successor] == -1 or lis[successor] > lis[k] + cost:\n",
    "                lis[successor] = lis[k] + cost\n",
    "                # so that can find the minimum of cost for all state\n",
    "    print(lis[goal])\n",
    "    #print(lis)\n",
    "\n",
    "UCF(2, 85)"
   ]
  },
  {
   "cell_type": "markdown",
   "metadata": {},
   "source": [
    "6\\.a* question"
   ]
  },
  {
   "cell_type": "markdown",
   "metadata": {},
   "source": [
    "A cute cat stays in the A position, he is hungry. But the food is placed in the B position. Can you help him to find the food? \n",
    "Hint:  The problem isn't easy. It's essential for you to understand the A* algorithm before you solve this problem. Then, you can use some thought of Node in java, when you are in code.\n",
    "\n",
    "<img src=\"img/p4.png\" width=\"500\" height=\"400\" >\n"
   ]
  },
  {
   "cell_type": "code",
   "execution_count": 6,
   "metadata": {},
   "outputs": [
    {
     "name": "stdout",
     "output_type": "stream",
     "text": [
      "Distance From Destination\n",
      " 5.8   4.8   3.8   2.8   2.4   2.0   2.4  \n",
      " 6.2   5.2   4.2    X    1.4   1.0   1.4  \n",
      " 6.6   5.6   5.2    X    1.0   0.0   1.0  \n",
      " 6.2   5.2   4.2    X    1.4   1.0   1.4  \n",
      " 5.8   4.8   3.8   2.8   2.4   2.0   2.4  \n",
      "\n",
      "Cant find any way to the destination!\n",
      "How To Go\n"
     ]
    },
    {
     "ename": "TypeError",
     "evalue": "argument of type 'NoneType' is not iterable",
     "output_type": "error",
     "traceback": [
      "\u001b[0;31m---------------------------------------------------------------------------\u001b[0m",
      "\u001b[0;31mTypeError\u001b[0m                                 Traceback (most recent call last)",
      "\u001b[0;32m<ipython-input-6-3fbc65e3af5a>\u001b[0m in \u001b[0;36m<module>\u001b[0;34m()\u001b[0m\n\u001b[1;32m    204\u001b[0m \u001b[0;34m\u001b[0m\u001b[0m\n\u001b[1;32m    205\u001b[0m \u001b[0;34m\u001b[0m\u001b[0m\n\u001b[0;32m--> 206\u001b[0;31m \u001b[0mmain\u001b[0m\u001b[0;34m(\u001b[0m\u001b[0;34m)\u001b[0m\u001b[0;34m\u001b[0m\u001b[0m\n\u001b[0m",
      "\u001b[0;32m<ipython-input-6-3fbc65e3af5a>\u001b[0m in \u001b[0;36mmain\u001b[0;34m()\u001b[0m\n\u001b[1;32m    151\u001b[0m \u001b[0;34m\u001b[0m\u001b[0m\n\u001b[1;32m    152\u001b[0m \u001b[0;32mdef\u001b[0m \u001b[0mmain\u001b[0m\u001b[0;34m(\u001b[0m\u001b[0;34m)\u001b[0m\u001b[0;34m:\u001b[0m\u001b[0;34m\u001b[0m\u001b[0m\n\u001b[0;32m--> 153\u001b[0;31m     \u001b[0mTestGetDistanceFromDes\u001b[0m\u001b[0;34m(\u001b[0m\u001b[0;34m)\u001b[0m\u001b[0;34m\u001b[0m\u001b[0m\n\u001b[0m\u001b[1;32m    154\u001b[0m \u001b[0;34m\u001b[0m\u001b[0m\n\u001b[1;32m    155\u001b[0m \u001b[0;32mdef\u001b[0m \u001b[0mTestGetMinDistanceNodeList\u001b[0m\u001b[0;34m(\u001b[0m\u001b[0mmap\u001b[0m\u001b[0;34m,\u001b[0m \u001b[0mmapSize\u001b[0m\u001b[0;34m,\u001b[0m \u001b[0moriIndex\u001b[0m\u001b[0;34m,\u001b[0m \u001b[0mdesIndex\u001b[0m\u001b[0;34m)\u001b[0m\u001b[0;34m:\u001b[0m\u001b[0;34m\u001b[0m\u001b[0m\n",
      "\u001b[0;32m<ipython-input-6-3fbc65e3af5a>\u001b[0m in \u001b[0;36mTestGetDistanceFromDes\u001b[0;34m()\u001b[0m\n\u001b[1;32m    201\u001b[0m     \u001b[0mprint\u001b[0m\u001b[0;34m(\u001b[0m\u001b[0;34m)\u001b[0m\u001b[0;34m\u001b[0m\u001b[0m\n\u001b[1;32m    202\u001b[0m \u001b[0;34m\u001b[0m\u001b[0m\n\u001b[0;32m--> 203\u001b[0;31m     \u001b[0mTestGetMinDistanceNodeList\u001b[0m\u001b[0;34m(\u001b[0m\u001b[0mmap\u001b[0m\u001b[0;34m,\u001b[0m \u001b[0;34m(\u001b[0m\u001b[0mm\u001b[0m\u001b[0;34m,\u001b[0m \u001b[0mn\u001b[0m\u001b[0;34m)\u001b[0m\u001b[0;34m,\u001b[0m \u001b[0moriIndex\u001b[0m\u001b[0;34m,\u001b[0m \u001b[0mdesIndex\u001b[0m\u001b[0;34m)\u001b[0m  \u001b[0;31m# 终点距离测试完了，进入下一阶段\u001b[0m\u001b[0;34m\u001b[0m\u001b[0m\n\u001b[0m\u001b[1;32m    204\u001b[0m \u001b[0;34m\u001b[0m\u001b[0m\n\u001b[1;32m    205\u001b[0m \u001b[0;34m\u001b[0m\u001b[0m\n",
      "\u001b[0;32m<ipython-input-6-3fbc65e3af5a>\u001b[0m in \u001b[0;36mTestGetMinDistanceNodeList\u001b[0;34m(map, mapSize, oriIndex, desIndex)\u001b[0m\n\u001b[1;32m    161\u001b[0m     \u001b[0;32mfor\u001b[0m \u001b[0mnodeRow\u001b[0m \u001b[0;32min\u001b[0m \u001b[0mmap\u001b[0m\u001b[0;34m:\u001b[0m\u001b[0;34m\u001b[0m\u001b[0m\n\u001b[1;32m    162\u001b[0m         \u001b[0;32mfor\u001b[0m \u001b[0mnode\u001b[0m \u001b[0;32min\u001b[0m \u001b[0mnodeRow\u001b[0m\u001b[0;34m:\u001b[0m\u001b[0;34m\u001b[0m\u001b[0m\n\u001b[0;32m--> 163\u001b[0;31m             \u001b[0;32mif\u001b[0m \u001b[0mnode\u001b[0m \u001b[0;32min\u001b[0m \u001b[0mfinalList\u001b[0m\u001b[0;34m:\u001b[0m\u001b[0;34m\u001b[0m\u001b[0m\n\u001b[0m\u001b[1;32m    164\u001b[0m                 \u001b[0;31m#print('  *  ',end ='')\u001b[0m\u001b[0;34m\u001b[0m\u001b[0;34m\u001b[0m\u001b[0m\n\u001b[1;32m    165\u001b[0m                 \u001b[0mparent\u001b[0m \u001b[0;34m=\u001b[0m \u001b[0mnode\u001b[0m\u001b[0;34m.\u001b[0m\u001b[0mparent\u001b[0m\u001b[0;34m\u001b[0m\u001b[0m\n",
      "\u001b[0;31mTypeError\u001b[0m: argument of type 'NoneType' is not iterable"
     ]
    }
   ],
   "source": [
    "## write your answer here!\n",
    "class Node:\n",
    "    def __int__(self):\n",
    "        self.unable = False\n",
    "        self.distanceFromDes = -1  # 距离终点的距离\n",
    "        self.distanceFromOri = -1  # 距离起点的距离\n",
    "        self.allDistance = -1\n",
    "        self.added = False\n",
    "        self.closed = False\n",
    "        self.parent = None\n",
    "        self.x = -1\n",
    "        self.y = -1\n",
    "\n",
    "\n",
    "def GenerateMap(m, n):\n",
    "    map = list()\n",
    "    for j in range(m):\n",
    "        nodeRow = list()\n",
    "        map.append(nodeRow)\n",
    "        for i in range(n):\n",
    "            node = Node()\n",
    "            node.y = j\n",
    "            node.x = i\n",
    "            node.unable = False\n",
    "            node.distanceFromDes = -1  # 距离终点的距离\n",
    "            node.distanceFromOri = -1  # 距离起点的距离\n",
    "            node.allDistance = -1\n",
    "            node.added = False\n",
    "            node.closed = False\n",
    "            node.parent = None\n",
    "            nodeRow.append(node)\n",
    "    return map\n",
    "\n",
    "\n",
    "def SetUnableMapNode(map, ls=()):  # 要求一个坐标队列，里边的点上的Node的unable == True\n",
    "    for index in ls:\n",
    "        map[index[0]][index[1]].unable = True\n",
    "    return map\n",
    "\n",
    "\n",
    "def GetDistanceFromDes(map, mapSize, desIndex):  # map二维数组，mapsize(m,n),desIndex终点坐标\n",
    "    for ls in map:\n",
    "        for node in ls:\n",
    "            node.added = False\n",
    "    desNode = map[desIndex[0]][desIndex[1]]\n",
    "    desNode.distanceFromDes = 0\n",
    "    addedList = list()  # 已经加入的队列，已有值distanceFromDes\n",
    "    needList = list()  # 待加入的队列，需要评估值distanceFromDes\n",
    "    addedList.append(desNode)\n",
    "    desNode.added = True\n",
    "    while (len(addedList) != 0):  # 当地图上所有可以遍历的点还没全确定\n",
    "        while (len(addedList) != 0):  # 当一个大循环中，addedList还没被needList取代\n",
    "            # 从addedList中选出来的一个点，找needList中的needNode\n",
    "            mainNode = addedList.pop(0)\n",
    "            mainDistanceFromDes = mainNode.distanceFromDes\n",
    "            y = mainNode.y\n",
    "            x = mainNode.x\n",
    "            for needNodey in (y + 1, y, y - 1):\n",
    "                if needNodey < 0 or needNodey >= mapSize[0]:\n",
    "                    continue\n",
    "                for needNodex in (x + 1, x, x - 1):\n",
    "                    if needNodex < 0 or needNodex >= mapSize[1]:\n",
    "                        continue\n",
    "                    needNode = map[needNodey][needNodex]  # 坐标不出界\n",
    "                    if needNode.unable == True or needNode.added == True:\n",
    "                        continue  # 坐标也满足add的要求\n",
    "                    yOffset = needNodey - y\n",
    "                    xOffset = needNodex - x\n",
    "                    allOffset = yOffset + xOffset\n",
    "                    if allOffset == 1 or allOffset == -1:\n",
    "                        distanceFromDes = mainDistanceFromDes + 1\n",
    "                    elif allOffset == -2 or allOffset == 0 or allOffset == 2:\n",
    "                        distanceFromDes = mainDistanceFromDes + 1.4\n",
    "                    else:\n",
    "                        print(\"error in needNode's distanceFromDes\")\n",
    "\n",
    "                    if needNode in needList:  # 设置needNode的距离，要求最小\n",
    "                        if distanceFromDes < needNode.distanceFromDes:\n",
    "                            needNode.distanceFromDes = distanceFromDes\n",
    "                    else:  # needNode 不在needList中 distanceFromDes一定是-1\n",
    "                        needNode.distanceFromDes = distanceFromDes\n",
    "                        needList.append(needNode)\n",
    "                    # print(needNode.y,needNode.x,needNode.distanceFromDes)\n",
    "        # needList 已满 addedList已空\n",
    "        addedList = needList\n",
    "        for node in addedList:\n",
    "            node.added = True\n",
    "        needList = list()\n",
    "    return map\n",
    "\n",
    "\n",
    "def GetMinDistanceNodeList(map, mapSize, oriIndex, desIndex):\n",
    "    for ls in map:\n",
    "        for node in ls:\n",
    "            node.added = False\n",
    "    openedList = list()\n",
    "    node = map[oriIndex[0]][oriIndex[1]]\n",
    "    node.distanceFromOri = 0\n",
    "    node.allDistance = 0\n",
    "    openedList.append(node)\n",
    "    node.added = True\n",
    "    while len(openedList) != 0:\n",
    "        # print('new turn')\n",
    "        node = openedList.pop(0)\n",
    "        node.closed = True\n",
    "        if node.x == desIndex[0] and node.y == desIndex[1]:\n",
    "            finalListNeedReverse = list()\n",
    "            while node != None:\n",
    "                finalListNeedReverse.append(node)\n",
    "                node = node.parent\n",
    "            finalListNeedReverse.reverse()\n",
    "            return finalListNeedReverse\n",
    "        neighboursList = list()\n",
    "        y = node.y\n",
    "        x = node.x\n",
    "        parentDistanceFromOri = node.distanceFromOri\n",
    "        for needNodey in (y + 1, y, y - 1):\n",
    "            if needNodey < 0 or needNodey >= mapSize[0]:\n",
    "                continue\n",
    "            for needNodex in (x + 1, x, x - 1):\n",
    "                if needNodex < 0 or needNodex >= mapSize[1]:\n",
    "                    continue\n",
    "                needNode = map[needNodey][needNodex]  # 坐标不出界\n",
    "                if needNode.unable == True or needNode.closed == True or needNode.added == True:\n",
    "                    continue  # 坐标也满足add的要求\n",
    "                yOffset = needNodey - y\n",
    "                xOffset = needNodex - x\n",
    "                allOffset = yOffset + xOffset\n",
    "                if allOffset == 1 or allOffset == -1:\n",
    "                    distanceFromOri = parentDistanceFromOri + 1\n",
    "                elif allOffset == -2 or allOffset == 0 or allOffset == 2:\n",
    "                    distanceFromOri = parentDistanceFromOri + 1.4\n",
    "                else:\n",
    "                    print(\"error in needNode's distanceFromDes\")\n",
    "                if needNode in neighboursList:  # 设置needNode的距离，要求最小\n",
    "                    if distanceFromOri <= needNode.distanceFromOri:\n",
    "                        needNode.distanceFromOri = distanceFromOri\n",
    "                else:  # needNode 不在needList中 distanceFromDes一定是-1\n",
    "                    needNode.distanceFromOri = distanceFromOri\n",
    "                    neighboursList.append(needNode)  # 距离计算完成\n",
    "        for needNode in neighboursList:  # 开始添加至openedList\n",
    "            needNode.parent = node\n",
    "            needNode.allDistance = needNode.distanceFromOri + needNode.distanceFromDes\n",
    "            needNode.added = True\n",
    "            openedList.append(needNode)\n",
    "            # print(needNode.x,needNode.y,needNode.allDistance)\n",
    "        openedList.sort(key=lambda x: x.allDistance)  # 最小距离的排在前边\n",
    "    print(\"Cant find any way to the destination!\")\n",
    "    return None\n",
    "\n",
    "\n",
    "def main():\n",
    "    TestGetDistanceFromDes()\n",
    "\n",
    "def TestGetMinDistanceNodeList(map, mapSize, oriIndex, desIndex):\n",
    "    finalList = GetMinDistanceNodeList(map, mapSize, oriIndex, desIndex)  # 添加起点，并生成起点到终点的节点队列\n",
    "    #print('How To GO')\n",
    "    #print(finalList)\n",
    "    directions = (('↘', '↓', '↙'), ('→', \"S\", '←'), ('↗', '↑', '↖'))\n",
    "    print('How To Go')\n",
    "    for nodeRow in map:\n",
    "        for node in nodeRow:\n",
    "            if node in finalList:\n",
    "                #print('  *  ',end ='')\n",
    "                parent = node.parent\n",
    "                if parent != None:\n",
    "                    if node.y != desIndex[0] or node.x != desIndex[1]:\n",
    "                        (y, x) = (parent.y - node.y + 1, parent.x - node.x + 1)\n",
    "                        print('  ' + directions[y][x] + '  ', end='')\n",
    "                    else:\n",
    "                        print('Final', end='')\n",
    "                else:\n",
    "                    print('Start', end='')\n",
    "            else:\n",
    "                if node.allDistance != -1:\n",
    "                    print('{:^4.1f}'.format(node.allDistance), end=\" \")\n",
    "                else:\n",
    "                    print('  X  ', end=\" \")\n",
    "        print()\n",
    "    print()\n",
    "\n",
    "\n",
    "def TestGetDistanceFromDes():\n",
    "    m = 5  # 设置地图的长\n",
    "    n = 7  # 设置地图的宽\n",
    "    oriIndex = (2, 1)  # 设置起点坐标\n",
    "    desIndex = (2, 5)  # 设置终点坐标\n",
    "    map = GenerateMap(m, n)  # 生成地图节点\n",
    "    obstacleList = [(1,3),(2,3),(3,3)]  # 设置障碍\n",
    "    map = SetUnableMapNode(map, obstacleList)  # 在地图中添加障碍\n",
    "    GetDistanceFromDes(map, (m, n), desIndex)  # 添加终点，并计算节点与终点的距离\n",
    "\n",
    "    print(\"Distance From Destination\")\n",
    "    for nodeRow in map:\n",
    "        for node in nodeRow:\n",
    "            if node.distanceFromDes != -1:\n",
    "                print('{:^5.1f}'.format(node.distanceFromDes), end=\" \")\n",
    "            else:\n",
    "                print('  X  ', end=\" \")\n",
    "        print()\n",
    "    print()\n",
    "\n",
    "    TestGetMinDistanceNodeList(map, (m, n), oriIndex, desIndex)  # 终点距离测试完了，进入下一阶段\n",
    "\n",
    "\n",
    "main()\n"
   ]
  },
  {
   "cell_type": "code",
   "execution_count": null,
   "metadata": {
    "collapsed": true
   },
   "outputs": [],
   "source": []
  }
 ],
 "metadata": {
  "kernelspec": {
   "display_name": "Python 3",
   "language": "python",
   "name": "python3"
  },
  "language_info": {
   "codemirror_mode": {
    "name": "ipython",
    "version": 3
   },
   "file_extension": ".py",
   "mimetype": "text/x-python",
   "name": "python",
   "nbconvert_exporter": "python",
   "pygments_lexer": "ipython3",
   "version": "3.6.2"
  }
 },
 "nbformat": 4,
 "nbformat_minor": 2
}
