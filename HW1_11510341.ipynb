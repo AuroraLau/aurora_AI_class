{
 "cells": [
  {
   "cell_type": "code",
   "execution_count": 1,
   "metadata": {
    "collapsed": true
   },
   "outputs": [],
   "source": [
    "# problem 1\n",
    "fruit=['apple','orange','banana','watermelon','peach']"
   ]
  },
  {
   "cell_type": "code",
   "execution_count": 3,
   "metadata": {
    "collapsed": false
   },
   "outputs": [
    {
     "name": "stdout",
     "output_type": "stream",
     "text": [
      "I found it!\n"
     ]
    }
   ],
   "source": [
    "# problem 2\n",
    "fruit=['apple','orange','banana','watermelon','peach']\n",
    "for item in fruit:\n",
    "    if item=='apple':\n",
    "        print (\"I found it!\")"
   ]
  },
  {
   "cell_type": "code",
   "execution_count": 5,
   "metadata": {
    "collapsed": false
   },
   "outputs": [
    {
     "name": "stdout",
     "output_type": "stream",
     "text": [
      "['apple', 'orange', 'banana', 'watermelon', 'peach', 'kiwi', 'pear']\n"
     ]
    }
   ],
   "source": [
    "# problem 3\n",
    "fruit=['apple','orange','banana','watermelon','peach']\n",
    "fruit.append('kiwi')\n",
    "fruit.append('pear')"
   ]
  },
  {
   "cell_type": "code",
   "execution_count": 9,
   "metadata": {
    "collapsed": false
   },
   "outputs": [
    {
     "name": "stdout",
     "output_type": "stream",
     "text": [
      "apple has 5 letters\n",
      "orange has 6 letters\n",
      "banana has 6 letters\n",
      "watermelon has 10 letters\n",
      "peach has 5 letters\n",
      "kiwi has 4 letters\n",
      "pear has 4 letters\n"
     ]
    }
   ],
   "source": [
    "# problem 4\n",
    "fruit_letter=[]\n",
    "for item in fruit:\n",
    "    fruit_letter.append(len(item))\n",
    "for i in range(0,len(fruit_letter)):\n",
    "    print (fruit[i]+' '+'has'+' '+str(fruit_letter[i])+' '+'letters')"
   ]
  },
  {
   "cell_type": "code",
   "execution_count": 12,
   "metadata": {
    "collapsed": false
   },
   "outputs": [
    {
     "data": {
      "text/plain": [
       "[4.5, 4.5]"
      ]
     },
     "execution_count": 12,
     "metadata": {},
     "output_type": "execute_result"
    }
   ],
   "source": [
    "# problem 5\n",
    "def half_squared(a):\n",
    "    value=[]\n",
    "    for i in a:\n",
    "        value.append(i*i/2.0)\n",
    "    return value"
   ]
  },
  {
   "cell_type": "code",
   "execution_count": 15,
   "metadata": {
    "collapsed": false
   },
   "outputs": [
    {
     "name": "stdout",
     "output_type": "stream",
     "text": [
      "input first number: 91\n",
      "A\n"
     ]
    }
   ],
   "source": [
    "# problem 6\n",
    "a = int(input(\"input first number: \"))\n",
    "if a>100 or a<0:\n",
    "    print('error!')\n",
    "elif a>=90:\n",
    "    print ('A')\n",
    "elif a>60 and a<=89:\n",
    "    print ('B')\n",
    "else:\n",
    "    print ('C')"
   ]
  },
  {
   "cell_type": "code",
   "execution_count": 22,
   "metadata": {
    "collapsed": false
   },
   "outputs": [
    {
     "data": {
      "text/plain": [
       "(12, 7, 5)"
      ]
     },
     "execution_count": 22,
     "metadata": {},
     "output_type": "execute_result"
    }
   ],
   "source": [
    "# problem 7\n",
    "def revSort(a,b,c):\n",
    "    if a<b:\n",
    "        a,b=b,a\n",
    "    if b<c:\n",
    "        b,c=c,b\n",
    "    if a<b:\n",
    "        a,b=b,a\n",
    "    return a,b,c"
   ]
  },
  {
   "cell_type": "code",
   "execution_count": 7,
   "metadata": {
    "collapsed": false
   },
   "outputs": [
    {
     "name": "stdout",
     "output_type": "stream",
     "text": [
      "1 2 3 4 5 6 "
     ]
    }
   ],
   "source": [
    "# problem 8\n",
    "def traverse(a):\n",
    "    for i in range(0,len(a)):\n",
    "        for j in range(0,len(a[i])):\n",
    "            print (a[i][j],end=' ')\n",
    "traverse([[1, 2, 3], [4, 5, 6]])"
   ]
  },
  {
   "cell_type": "code",
   "execution_count": 9,
   "metadata": {
    "collapsed": false
   },
   "outputs": [
    {
     "name": "stdout",
     "output_type": "stream",
     "text": [
      "1\n",
      "8\n",
      "17\n",
      "18\n",
      "26\n",
      "27\n"
     ]
    }
   ],
   "source": [
    "# problem 9\n",
    "def f(x):\n",
    "    #if_type=False\n",
    "    a=str(pow(x,3))\n",
    "    count=0\n",
    "    for i in range(0,len(a)):\n",
    "        count=count+int(a[i])\n",
    "    if count==x:\n",
    "        return x\n",
    "a=list(range(1,101))\n",
    "for i in map(f,a):\n",
    "    if i!=None:\n",
    "        print(i)"
   ]
  },
  {
   "cell_type": "code",
   "execution_count": 23,
   "metadata": {
    "collapsed": false
   },
   "outputs": [
    {
     "name": "stdout",
     "output_type": "stream",
     "text": [
      "random a and b is 6 and 8\n",
      "exchanged a and b is 8 and 6\n"
     ]
    }
   ],
   "source": [
    "# problem 10\n",
    "import random\n",
    "a = random.randint(-1,10)\n",
    "b = random.randint(-1,10)\n",
    "print(\"random a and b is \"+ str(a)+' '+'and '+str(b))\n",
    "a,b=b,a\n",
    "print(\"exchanged a and b is \"+ str(a)+' '+'and '+str(b))"
   ]
  },
  {
   "cell_type": "code",
   "execution_count": 29,
   "metadata": {
    "collapsed": false
   },
   "outputs": [
    {
     "name": "stdout",
     "output_type": "stream",
     "text": [
      "   *   \n",
      "  ***  \n",
      " ***** \n",
      "*******\n",
      " ***** \n",
      "  ***  \n",
      "   *   \n"
     ]
    }
   ],
   "source": [
    "# problem 11\n",
    "for i in range(1,5):\n",
    "    star=2*i-1\n",
    "    space=4-i\n",
    "    print (\" \"*space+star*\"*\"+\" \"*space)\n",
    "for i in range(1,4):\n",
    "    star=7-i*2\n",
    "    space=i\n",
    "    print (\" \"*space+star*\"*\"+\" \"*space)"
   ]
  },
  {
   "cell_type": "code",
   "execution_count": 48,
   "metadata": {
    "collapsed": false
   },
   "outputs": [
    {
     "name": "stdout",
     "output_type": "stream",
     "text": [
      "123456\n",
      "234561\n",
      "345612\n",
      "456123\n",
      "561234\n",
      "612345\n"
     ]
    }
   ],
   "source": [
    "# problem 12\n",
    "a=\"123456\"\n",
    "for i in range(0,6):\n",
    "    print (a[i:7]+a[0:i]) "
   ]
  },
  {
   "cell_type": "code",
   "execution_count": 50,
   "metadata": {
    "collapsed": false
   },
   "outputs": [
    {
     "name": "stdout",
     "output_type": "stream",
     "text": [
      "Charles Martina Michael Florence Eli "
     ]
    }
   ],
   "source": [
    "# problem 13\n",
    "players = ['charles','martina','michael','florence','eli']\n",
    "for i in players:\n",
    "    print (i.title(), end=' ')"
   ]
  }
 ],
 "metadata": {
  "kernelspec": {
   "display_name": "python3.6",
   "language": "python",
   "name": "python3.6"
  },
  "language_info": {
   "codemirror_mode": {
    "name": "ipython",
    "version": 3
   },
   "file_extension": ".py",
   "mimetype": "text/x-python",
   "name": "python",
   "nbconvert_exporter": "python",
   "pygments_lexer": "ipython3",
   "version": "3.6.2"
  }
 },
 "nbformat": 4,
 "nbformat_minor": 2
}
