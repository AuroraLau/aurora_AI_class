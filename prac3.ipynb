{
 "cells": [
  {
   "cell_type": "markdown",
   "metadata": {},
   "source": [
    "# Introduction to Artificial Intelligence for Non Computing"
   ]
  },
  {
   "cell_type": "markdown",
   "metadata": {},
   "source": [
    "## Practical 3 (weeks 5 - 6)"
   ]
  },
  {
   "cell_type": "markdown",
   "metadata": {},
   "source": [
    "The following links provide additional information about data analysis , machine learning and Numpy"
   ]
  },
  {
   "cell_type": "markdown",
   "metadata": {},
   "source": [
    "Python data analysis: https://www.imooc.com/learn/843\n",
    "machine learning: https://www.imooc.com/learn/717\n",
    "Numpy :https://www.imooc.com/learn/943"
   ]
  },
  {
   "cell_type": "markdown",
   "metadata": {},
   "source": [
    "#### Theory Questions"
   ]
  },
  {
   "cell_type": "markdown",
   "metadata": {},
   "source": [
    "1\\.Which of the following are true and which are false? Give brief explanations.\n",
    "- a. In a fully observable, turn-taking, zero-sum game between two perfectly rational players,it does not help the first player to know what strategy the second player is using—that is, what move the second player will make, given the first player's move.\n",
    "- b. In a partially observable, turn-taking, zero-sum game between two perfectly rational players, it does not help the first player to know what move the second player will make, given the first player's move.\n",
    "- c. A perfectly rational backgammon agent never loses.\n",
    "\n",
    "See textbook Chapter6 24.6"
   ]
  },
  {
   "cell_type": "markdown",
   "metadata": {},
   "source": [
    "_your answer here..._ \n",
    "\n",
    "a. False. It's helpful to know your opponent's move in fully observable games, like playing chess, because you can use strategy to prevent his movement in your turns.\n",
    "\n",
    "b. False. The partially observable game also needs strategies, so it's also helpful for knowing your opponent's strategies.\n",
    "\n",
    "c. False. The backgammon is unpredictable, so it really depends on chances.\n",
    "\n",
    "***"
   ]
  },
  {
   "cell_type": "markdown",
   "metadata": {},
   "source": [
    "2\\.Define in your own words the terms constraint, backtracking search, arc consistency,backjumping, min-conflicts, and cycle cutset.\n",
    "\n",
    "See textbook Chapter6 6.16"
   ]
  },
  {
   "cell_type": "markdown",
   "metadata": {},
   "source": [
    "_your answer here..._ \n",
    "\n",
    "constraint: some limitations come from the environment. \n",
    "\n",
    "backtracking search: search the tree recursively, from the root down to the top node.\n",
    "\n",
    "arc consistency: method used to reduce the search space and make the problem easier to solve.\n",
    "\n",
    "backjumping: a much more efficient backtracking search, by jumping back more than one level when a dead end is reached.\n",
    "\n",
    "min-conflicts: The algorithm searches each potential move for the number of conflicts.\n",
    "\n",
    "cycle cutset: a set of variables which when removed from the constraint graph make it acyclic.\n",
    "\n",
    "***"
   ]
  },
  {
   "cell_type": "markdown",
   "metadata": {},
   "source": [
    "3\\.Explain why it is a good heuristic to choose the variable that is most constrained but the value that is least constraining in a CSP search.\n",
    "\n",
    "See textbook Chapter6 6.9"
   ]
  },
  {
   "attachments": {},
   "cell_type": "markdown",
   "metadata": {},
   "source": [
    "_your answer here..._ \n",
    "\n",
    "The most constrained variable makes sense because it chooses a variable that is likely to cause a failure, while the least constraining value heuristic makes sense because it allows the most chances for future assignments to avoid conflict.\n",
    "\n",
    "***"
   ]
  },
  {
   "cell_type": "markdown",
   "metadata": {},
   "source": [
    "4\\.Consider the following procedure for choosing moves in games with chance nodes: \n",
    "- 1、Generate some dice-roll sequences (say, 50) down to a suitable depth (say, 8).\n",
    "- 2、With known dice rolls, the game tree becomes deterministic. For each dice-roll sequence,solve the resulting deterministic game tree using alpha-beta.\n",
    "- 3、Use the results to estimate the value of each move and to choose the best.Will this procedure work well? Why (or why not)?\n",
    "\n",
    "See textbook Chapter5 5.19"
   ]
  },
  {
   "cell_type": "markdown",
   "metadata": {},
   "source": [
    "_your answer here..._ \n",
    "\n",
    "NO. Because the choices depend on all of the dice-roll sequences, but the future dice-roll results are unpredictable.\n",
    "\n",
    "***"
   ]
  },
  {
   "cell_type": "markdown",
   "metadata": {},
   "source": [
    "5\\. Now,please consider this game:  there are three plates A, B and C, each plate has three bills. A puts 1, 20, 50; B puts 5, 10, 100; C puts 1, 5, 20. All units are \"Yuan\". There are two persons A and B, and two of them can check out three plates and banknotes .（ A is ourself, The other is B）\n",
    "The game is divided into three steps: \n",
    "- 1、A select a plate from three plate.\n",
    "- 2、B take out two banknotes from A selected plate,and give the  banknotes to A.  \n",
    "- 3、A take one of the two banknotes, and take it away.among,A want to get the max banknotes, B want to let A to get the min.\n",
    "\n",
    "Try to understand the minimax algorithm，you can click the link:https://blog.csdn.net/tangchenyi/article/details/22920031"
   ]
  },
  {
   "cell_type": "markdown",
   "metadata": {},
   "source": [
    "_your answer here..._ \n",
    "\n",
    "if A select A plate, B want to let A to get the min, so take out 1 and 20, then A take 20.\n",
    "\n",
    "if A select B plate, B want to let A to get the min, so take out 5 and 10, then A take 20.\n",
    "\n",
    "if A select C plate, B want to let A to get the min, so take out 1 and 5, then A take 5.\n",
    "\n",
    "***"
   ]
  },
  {
   "cell_type": "markdown",
   "metadata": {},
   "source": [
    "### Programming Excercises"
   ]
  },
  {
   "cell_type": "markdown",
   "metadata": {},
   "source": [
    "1\\. Guess number(Single number): please generate a randomly number  with the function (random), then ask someone to guess the number,I think we should give the corresponding hint, otherwise it will be very difficult to guess the number.the game will be over untill you get the right number."
   ]
  },
  {
   "cell_type": "code",
   "execution_count": 2,
   "metadata": {},
   "outputs": [
    {
     "name": "stdout",
     "output_type": "stream",
     "text": [
      "Please guess a single number: 50\n",
      "It's too small, please try again: 70\n",
      "It's too small, please try again: 80\n",
      "It's too small, please try again: 90\n",
      "It's too large, please try again: 85\n",
      "It's too large, please try again: 83\n",
      "Congratulations! The answer is 83\n"
     ]
    }
   ],
   "source": [
    "## write your answer here!\n",
    "import random\n",
    "\n",
    "answer = random.randint(1,100)\n",
    "guess = int(input(\"Please guess a single number: \"))\n",
    "\n",
    "while guess != answer:\n",
    "    if guess > answer:\n",
    "        guess = int(input(\"It's too large, please try again: \"))\n",
    "    if guess < answer:\n",
    "        guess = int(input(\"It's too small, please try again: \"))\n",
    "        \n",
    "print(\"Congratulations! The answer is \"+str(answer))"
   ]
  },
  {
   "cell_type": "markdown",
   "metadata": {},
   "source": [
    "2\\.if you had understand the guess single number games,Congratulates,next is the guess three number games,Maybe you can do it well.But this is a different way of thinking. \n",
    "first : we need generate three numbers,there are most ten times chances give  you to guess the number,of course,we also give you some cue.\n",
    "\n",
    "- 'When I say:-->It means:\n",
    "- 'error--> The 3 numbers are not in the mystical numbers.'\n",
    "- 'Only the number is correct --> the number is right , but the position is not right.'\n",
    "- 'Absolutely right--> numbers is right and the position also right.'\n",
    "\n",
    "Maybe it's better for you to understand the rule well through see the picture.\n",
    "<div style=\"float:left;\" ><img src=\"img/p1.png\" width=\"400\" height=\"300\" >"
   ]
  },
  {
   "cell_type": "code",
   "execution_count": 4,
   "metadata": {},
   "outputs": [
    {
     "name": "stdout",
     "output_type": "stream",
     "text": [
      "This is the 1 time to guess three numbers: 300\n",
      "['Error', 'Error', 'Error']\n",
      "This is the 2 time to guess three numbers: 518\n",
      "['Error', 'Error', 'Error']\n",
      "This is the 3 time to guess three numbers: 427\n",
      "['Error', 'Error', 'Only the number is correct']\n",
      "This is the 4 time to guess three numbers: 769\n",
      "['Absolutely right', 'Error', 'Absolutely right']\n",
      "This is the 5 time to guess three numbers: 779\n",
      "['Absolutely right', 'Only the number is correct', 'Absolutely right']\n",
      "This is the 6 time to guess three numbers: 799\n",
      "Congratulations!\n"
     ]
    }
   ],
   "source": [
    "## write your answer here!\n",
    "import random\n",
    "\n",
    "time = 1\n",
    "answer = str(random.randint(100,1000))\n",
    "guess = input(\"This is the 1 time to guess three numbers: \")\n",
    "\n",
    "while (guess != answer) & (time<=10):\n",
    "    output = []\n",
    "    for i in range(3):\n",
    "        if guess[i]==answer[i]:\n",
    "            output.append(\"Absolutely right\")\n",
    "        elif guess[i] in answer:\n",
    "            output.append(\"Only the number is correct\")\n",
    "        else:\n",
    "            output.append(\"Error\")\n",
    "    print(output)\n",
    "    time += 1\n",
    "    guess = input(\"This is the \"+str(time)+\" time to guess three numbers: \")\n",
    "\n",
    "if time>10:\n",
    "    print(\"You are run out of chances!\")\n",
    "if guess==answer:\n",
    "    print(\"Congratulations!\")\n",
    "    "
   ]
  },
  {
   "cell_type": "markdown",
   "metadata": {},
   "source": [
    "3\\.please try using Python's Tkinter to make a visual interface（GUI）.if you don't know anything.Maybe you can refer to the below interface.and implement it by code.\n",
    "\n",
    "<div style=\"float:left;\" ><img src=\"img/p2.png\" width=\"200\" height=\"200\" >"
   ]
  },
  {
   "cell_type": "code",
   "execution_count": 7,
   "metadata": {},
   "outputs": [],
   "source": [
    "## write your answer here!\n",
    "from tkinter import *\n",
    "root = Tk()\n",
    "list1 = [\"java\",\"SQL\",\"html\",\"php\",\"C\"]\n",
    "list2 = [\"Bootstrap\",\"jQuery\",\"CSS\"]\n",
    "listbox1= Listbox(root)\n",
    "listbox2 = Listbox(root)\n",
    "for item in list1:\n",
    "    listbox1.insert(0,item)\n",
    "for item in list2: \n",
    "    listbox2.insert(0,item)\n",
    "listbox1.pack()\n",
    "listbox2.pack()\n",
    "root.mainloop()"
   ]
  },
  {
   "cell_type": "markdown",
   "metadata": {},
   "source": [
    "4\\.Through the initial trial of Tkinter,    please write a simple calculator.\n",
    "\n",
    "<div style=\"float:left;\" ><img src=\"img/p3.png\" width=\"180\" height=\"200\" center=\"left\"></div>\n",
    "<div style=\"float:left;\" ><img src=\"img/p4.png\" width=\"180\" height=\"200\" center=\"right\" ></div>"
   ]
  },
  {
   "cell_type": "code",
   "execution_count": 3,
   "metadata": {},
   "outputs": [],
   "source": [
    "## write your answer here!\n",
    "\n",
    "from tkinter import *\n",
    " \n",
    "def frame(root, side):\n",
    "    w = Frame(root)\n",
    "    w.pack(side = side, expand = YES, fill = BOTH)\n",
    "    return w\n",
    "\n",
    "def button(root, side, text, command = None):\n",
    "    w = Button(root, text = text, command = command)\n",
    "    w.pack(side = side, expand = YES, fill = BOTH)\n",
    "    return w\n",
    "\n",
    "class Calculator(Frame):\n",
    "    def __init__(self):\n",
    "        Frame.__init__(self)\n",
    "        self.pack(expand = YES, fill = BOTH)\n",
    "        self.master.title('Calculater')\n",
    "        display = StringVar()\n",
    "        Entry(self, relief = SUNKEN, textvariable = display).pack(side = TOP, expand = YES, fill = BOTH)\n",
    "        for key in('1234', '5678', '.90'):\n",
    "            keyF = frame(self, TOP)\n",
    "            for char in key:\n",
    "                button(keyF, LEFT, char, lambda w = display, c = char:w.set(w.get() + c))\n",
    "        opsF = frame(self, TOP)\n",
    "        for char in '+-*/=':\n",
    "            if char == '=':\n",
    "                btn = button(opsF, LEFT, char)\n",
    "                btn.bind('<ButtonRelease - 1>', lambda e, s = self, w = display:s.calc(w), '+')\n",
    "            else:\n",
    "                btn = button(opsF, LEFT, char, lambda w = display, s = '%s' %char:w.set(w.get() + s))\n",
    "        clearF = frame(self, BOTTOM)\n",
    "        button(clearF, LEFT, '←', lambda w = display:w.set(w.get()[:-1]))\n",
    "        button(clearF, LEFT, 'CE', lambda w = display:w.set(''))\n",
    "    def calc(self, display):\n",
    "        try:\n",
    "            display.set(eval(display.get()))\n",
    "        except:\n",
    "            display.set(\"ERROR\")\n",
    "\n",
    "if __name__ == '__main__':\n",
    "    Calculator().mainloop()"
   ]
  },
  {
   "cell_type": "markdown",
   "metadata": {},
   "source": [
    "5\\.Ball game:Python's pinball game, which can realize the game function of the keyboard control bottom baffle moving collision ball similar to table tennis game. \n",
    "\n",
    "<div style=\"float:left;\" ><img src=\"img/p5.png\" width=\"200\" height=\"200\" center=\"left\"></div>\n",
    "<div style=\"float:left;\" ><img src=\"img/p6.png\" width=\"200\" height=\"200\" center=\"right\" ></div>\n"
   ]
  },
  {
   "cell_type": "markdown",
   "metadata": {},
   "source": [
    "this is a step:how to install the matplotlib,you can reference this link:https://blog.csdn.net/not_give_up_/article/details/79058272\n",
    "1. Ball Class\n",
    "    draw is responsible for moving Ball\n",
    "    Collision detection, bounce, Ball detection of Paddle \n",
    "2. Paddle Class\n",
    "    draw is responsible for moving Paddle\n",
    "    Collision detection to determine whether or not to continue ,Monitor keyboard events\n",
    "3. main cycle\n",
    "    Drawing the Ball and Paddle"
   ]
  },
  {
   "cell_type": "code",
   "execution_count": 6,
   "metadata": {},
   "outputs": [
    {
     "ename": "SystemExit",
     "evalue": "Game over!",
     "output_type": "error",
     "traceback": [
      "An exception has occurred, use %tb to see the full traceback.\n",
      "\u001b[0;31mSystemExit\u001b[0m\u001b[0;31m:\u001b[0m Game over!\n"
     ]
    },
    {
     "name": "stderr",
     "output_type": "stream",
     "text": [
      "/Applications/anaconda3/lib/python3.6/site-packages/IPython/core/interactiveshell.py:2870: UserWarning: To exit: use 'exit', 'quit', or Ctrl-D.\n",
      "  warn(\"To exit: use 'exit', 'quit', or Ctrl-D.\", stacklevel=1)\n"
     ]
    }
   ],
   "source": [
    "## write your answer here!\n",
    "from tkinter import *\n",
    "from tkinter import messagebox\n",
    "import matplotlib\n",
    "matplotlib.use('Agg')\n",
    "import random\n",
    "import time\n",
    "import sys\n",
    "\n",
    "class Ball:\n",
    "    def __init__(self, canvas, paddle, color, score):\n",
    "        self.score = 0\n",
    "        self.canvas = canvas\n",
    "        self.paddle = paddle\n",
    "        self.id = canvas.create_oval(10, 10, 25, 25, fill=color, outline='green')\n",
    "        self.canvas.move(self.id, 245, 100)\n",
    "        startx = [-3, -2, -1, 1, 2, 3]\n",
    "        random.shuffle(startx)\n",
    "        self.x = startx[0]\n",
    "        self.y = -3\n",
    "        self.canvas_height = self.canvas.winfo_height()\n",
    "        self.canvas_width = self.canvas.winfo_width()\n",
    "        self.hit_bottom = False\n",
    "        b = messagebox.askyesno('game', 'Restart?')\n",
    "        if bool(b) is True:\n",
    "            self.draw()\n",
    "        else:\n",
    "            sys.exit()\n",
    " \n",
    "    def draw(self):\n",
    "        self.canvas.move(self.id, self.x, self.y)\n",
    "        pos = self.canvas.coords(self.id)\n",
    "        if (pos[1] <= 0 or self.hit_paddle(pos) == True):\n",
    "            self.y = -self.y\n",
    "        if (pos[0] <= 0 or pos[2] >= self.canvas_width):\n",
    "            self.x = -self.x\n",
    "        if (pos[3] >= self.canvas_height):\n",
    "            self.hit_bottom = True\n",
    " \n",
    "    def hit_paddle(self, pos):\n",
    "        paddle_pos = self.canvas.coords(self.paddle.id)\n",
    "        if (pos[2] >= paddle_pos[0] and pos[0] <= paddle_pos[2]):\n",
    "            if (pos[3] >= paddle_pos[1] and pos[3] <= paddle_pos[3]):\n",
    "                self.score += 1\n",
    "                return True\n",
    "        return False\n",
    "\n",
    "class Paddle:\n",
    "    def __init__(self, canvas, color, width):\n",
    "        self.canvas = canvas\n",
    "        self.id = canvas.create_rectangle(0, 0, width, 10, fill=color)\n",
    "        self.x = 0\n",
    "        self.y = 0\n",
    "        self.canvas.move(self.id, 200, 300)\n",
    "        self.canvas_width = self.canvas.winfo_width()\n",
    "        self.canvas.bind_all(\"<Key-Left>\", self.turn_left)\n",
    "        self.canvas.bind_all(\"<Key-Right>\", self.turn_right)\n",
    " \n",
    "    def draw(self):\n",
    "        pos = self.canvas.coords(self.id)\n",
    "        if (pos[0] + self.x >= 0 and pos[2] + self.x <= self.canvas_width):\n",
    "            self.canvas.move(self.id, self.x, 0)\n",
    " \n",
    "    def turn_left(self, event):\n",
    "        self.x = -4\n",
    " \n",
    "    def turn_right(self, event):\n",
    "        self.x = 4\n",
    "\n",
    "class Game:\n",
    "    def __init__(self):\n",
    "        self.tk = Tk()\n",
    "        self.tk.title(\"Ball Game\")\n",
    "        self.times = 0\n",
    "        sw = self.tk.winfo_screenwidth()\n",
    "        sh = self.tk.winfo_screenheight()\n",
    "        ww = 500\n",
    "        wh = 400\n",
    "        x = (sw-ww)/2\n",
    "        y = (sh-wh)/2\n",
    "        self.tk.geometry(\"%dx%d+%d+%d\" % (ww, wh, x, y))\n",
    "        self.tk.resizable(False, False)\n",
    "        self.tk.wm_attributes(\"-topmost\", 1)\n",
    "        self.canvas = Canvas(self.tk, width=500, height=500, bd=0, highlightthickness=0)\n",
    "        self.canvas.place(width=500, height=400)\n",
    "        self.tk.update()\n",
    "        self.loop()\n",
    " \n",
    "    def loop(self):\n",
    "        try:\n",
    "            paddle = Paddle(self.canvas, 'blue', 100)\n",
    "            ball = Ball(self.canvas, paddle, 'red', 0)\n",
    "            while True:\n",
    "                if ball.hit_bottom == False:\n",
    "                    ball.draw()\n",
    "                    paddle.draw()\n",
    "                else:\n",
    "                    b = messagebox.askyesno(\n",
    "                        'Fail!', message=\"Your score is ：\" + str(ball.score)+\"\\nRestart?\")\n",
    "                    if bool(b) is True:\n",
    "                        paddle.canvas.delete(paddle.id)\n",
    "                        self.sever()\n",
    "                    else:\n",
    "                        sys.exit()\n",
    "                self.tk.update_idletasks()\n",
    "                self.tk.update()\n",
    "                time.sleep(0.01+self.times)\n",
    "        except:\n",
    "            sys.exit('Game over!')\n",
    " \n",
    "    def sever(self):\n",
    "        self.loop()\n",
    "'''\n",
    "    def test1(self):\n",
    "        self.times += 0.001\n",
    " \n",
    "    def test2(self):\n",
    "        self.times -= 0.001\n",
    "'''\n",
    "def main():\n",
    "    game = Game()\n",
    " \n",
    " \n",
    "if __name__ == '__main__':\n",
    "    main()\n"
   ]
  },
  {
   "cell_type": "code",
   "execution_count": null,
   "metadata": {
    "collapsed": true
   },
   "outputs": [],
   "source": []
  }
 ],
 "metadata": {
  "kernelspec": {
   "display_name": "Python 3",
   "language": "python",
   "name": "python3"
  },
  "language_info": {
   "codemirror_mode": {
    "name": "ipython",
    "version": 3
   },
   "file_extension": ".py",
   "mimetype": "text/x-python",
   "name": "python",
   "nbconvert_exporter": "python",
   "pygments_lexer": "ipython3",
   "version": "3.6.2"
  }
 },
 "nbformat": 4,
 "nbformat_minor": 2
}
